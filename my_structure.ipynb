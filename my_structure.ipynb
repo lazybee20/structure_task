{
  "nbformat": 4,
  "nbformat_minor": 0,
  "metadata": {
    "colab": {
      "provenance": [],
      "authorship_tag": "ABX9TyOiawWyumBt6HHK5mOtKnTQ",
      "include_colab_link": true
    },
    "kernelspec": {
      "name": "python3",
      "display_name": "Python 3"
    },
    "language_info": {
      "name": "python"
    }
  },
  "cells": [
    {
      "cell_type": "markdown",
      "metadata": {
        "id": "view-in-github",
        "colab_type": "text"
      },
      "source": [
        "<a href=\"https://colab.research.google.com/github/lazybee20/structure_task/blob/main/my_structure.ipynb\" target=\"_parent\"><img src=\"https://colab.research.google.com/assets/colab-badge.svg\" alt=\"Open In Colab\"/></a>"
      ]
    },
    {
      "cell_type": "markdown",
      "source": [
        "Через словник (dict)"
      ],
      "metadata": {
        "id": "2zj7-ETqY1Jd"
      }
    },
    {
      "cell_type": "code",
      "source": [
        "students = [\n",
        "    {\"ПІП\": \"Іваненко І. І.\", \"курс\": 2, \"група\": \"БІ-21\", \"стипендія\": 1500},\n",
        "    {\"ПІП\": \"Петренко П. П.\", \"курс\": 1, \"група\": \"БІ-11\", \"стипендія\": 1300},\n",
        "    {\"ПІП\": \"Сидоренко С. С.\", \"курс\": 3, \"група\": \"БІ-31\", \"стипендія\": 1300},\n",
        "    {\"ПІП\": \"Коваленко К. К.\", \"курс\": 2, \"група\": \"БІ-22\", \"стипендія\": 2000}\n",
        "]\n",
        "\n",
        "min_stipend = min(student[\"стипендія\"] for student in students)\n",
        "\n",
        "print(\"Студенти з мінімальною стипендією:\")\n",
        "for student in students:\n",
        "    if student[\"стипендія\"] == min_stipend:\n",
        "        print(student)\n"
      ],
      "metadata": {
        "colab": {
          "base_uri": "https://localhost:8080/"
        },
        "id": "8zQbedLjY5Cn",
        "outputId": "9da677e4-d6e7-4119-b4e8-995c6e25d263"
      },
      "execution_count": 1,
      "outputs": [
        {
          "output_type": "stream",
          "name": "stdout",
          "text": [
            "Студенти з мінімальною стипендією:\n",
            "{'ПІП': 'Петренко П. П.', 'курс': 1, 'група': 'БІ-11', 'стипендія': 1300}\n",
            "{'ПІП': 'Сидоренко С. С.', 'курс': 3, 'група': 'БІ-31', 'стипендія': 1300}\n"
          ]
        }
      ]
    },
    {
      "cell_type": "markdown",
      "source": [
        "Через клас (class)"
      ],
      "metadata": {
        "id": "meJRezHmZTk9"
      }
    },
    {
      "cell_type": "code",
      "source": [
        "class Student:\n",
        "    def __init__(self, pip, kurs, grupa, stipend):\n",
        "        self.pip = pip\n",
        "        self.kurs = kurs\n",
        "        self.grupa = grupa\n",
        "        self.stipend = stipend\n",
        "\n",
        "    def __repr__(self):\n",
        "        return f\"{self.pip}, курс: {self.kurs}, група: {self.grupa}, стипендія: {self.stipend}\"\n",
        "\n",
        "students = [\n",
        "    Student(\"Іваненко І. І.\", 2, \"БІ-21\", 1500),\n",
        "    Student(\"Петренко П. П.\", 1, \"БІ-11\", 1300),\n",
        "    Student(\"Сидоренко С. С.\", 3, \"БІ-31\", 1300),\n",
        "    Student(\"Коваленко К. К.\", 2, \"БІ-22\", 2000)\n",
        "]\n",
        "\n",
        "min_stipend = min(student.stipend for student in students)\n",
        "\n",
        "print(\"Студенти з мінімальною стипендією:\")\n",
        "for student in students:\n",
        "    if student.stipend == min_stipend:\n",
        "        print(student)\n"
      ],
      "metadata": {
        "colab": {
          "base_uri": "https://localhost:8080/"
        },
        "id": "ugoB2n6fZV8Y",
        "outputId": "6aa4d658-8261-47e5-c163-ad7b6eb6b897"
      },
      "execution_count": 3,
      "outputs": [
        {
          "output_type": "stream",
          "name": "stdout",
          "text": [
            "Студенти з мінімальною стипендією:\n",
            "Петренко П. П., курс: 1, група: БІ-11, стипендія: 1300\n",
            "Сидоренко С. С., курс: 3, група: БІ-31, стипендія: 1300\n"
          ]
        }
      ]
    }
  ]
}